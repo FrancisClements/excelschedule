{
 "cells": [
  {
   "cell_type": "code",
   "execution_count": 1,
   "metadata": {},
   "outputs": [],
   "source": [
    "import pandas as pd"
   ]
  },
  {
   "cell_type": "code",
   "execution_count": 2,
   "metadata": {},
   "outputs": [],
   "source": [
    "df = pd.read_excel('sched_tbl.xlsx', index_col = 'CODE')"
   ]
  },
  {
   "cell_type": "code",
   "execution_count": 3,
   "metadata": {},
   "outputs": [
    {
     "data": {
      "text/html": [
       "<div>\n",
       "<style scoped>\n",
       "    .dataframe tbody tr th:only-of-type {\n",
       "        vertical-align: middle;\n",
       "    }\n",
       "\n",
       "    .dataframe tbody tr th {\n",
       "        vertical-align: top;\n",
       "    }\n",
       "\n",
       "    .dataframe thead th {\n",
       "        text-align: right;\n",
       "    }\n",
       "</style>\n",
       "<table border=\"1\" class=\"dataframe\">\n",
       "  <thead>\n",
       "    <tr style=\"text-align: right;\">\n",
       "      <th></th>\n",
       "      <th>CLASS CODE</th>\n",
       "      <th>SECTION</th>\n",
       "      <th>SUBJECTS</th>\n",
       "      <th>UNITS</th>\n",
       "      <th>FROM TIME</th>\n",
       "      <th>TO TIME</th>\n",
       "      <th>DAYS</th>\n",
       "      <th>ROOM</th>\n",
       "      <th>CLASS STATUS</th>\n",
       "    </tr>\n",
       "    <tr>\n",
       "      <th>CODE</th>\n",
       "      <th></th>\n",
       "      <th></th>\n",
       "      <th></th>\n",
       "      <th></th>\n",
       "      <th></th>\n",
       "      <th></th>\n",
       "      <th></th>\n",
       "      <th></th>\n",
       "      <th></th>\n",
       "    </tr>\n",
       "  </thead>\n",
       "  <tbody>\n",
       "    <tr>\n",
       "      <th>6UHCI</th>\n",
       "      <td>2067</td>\n",
       "      <td>EMC-202</td>\n",
       "      <td>USABILITY, HCI AND USER INTERACTION DESIGN</td>\n",
       "      <td>3</td>\n",
       "      <td>01:30p</td>\n",
       "      <td>04:30p</td>\n",
       "      <td>F</td>\n",
       "      <td>SJH-707</td>\n",
       "      <td>Open</td>\n",
       "    </tr>\n",
       "    <tr>\n",
       "      <th>6DRAW2</th>\n",
       "      <td>2069</td>\n",
       "      <td>EMC-202</td>\n",
       "      <td>PRINCIPLES OF 2D ANIMATION</td>\n",
       "      <td>3</td>\n",
       "      <td>01:00p</td>\n",
       "      <td>04:00p</td>\n",
       "      <td>M</td>\n",
       "      <td>SJH-704</td>\n",
       "      <td>Open</td>\n",
       "    </tr>\n",
       "    <tr>\n",
       "      <th>6CWRITE</th>\n",
       "      <td>2068</td>\n",
       "      <td>EMC-202</td>\n",
       "      <td>CREATIVE WRITING AND STORY BOARD DESIGN</td>\n",
       "      <td>3</td>\n",
       "      <td>05:50p</td>\n",
       "      <td>06:50p</td>\n",
       "      <td>MWF</td>\n",
       "      <td>SJH-504</td>\n",
       "      <td>Open</td>\n",
       "    </tr>\n",
       "    <tr>\n",
       "      <th>4CONWORLD</th>\n",
       "      <td>2064</td>\n",
       "      <td>EMC-202</td>\n",
       "      <td>THE CONTEMPORARY WORLD</td>\n",
       "      <td>3</td>\n",
       "      <td>06:55p</td>\n",
       "      <td>07:55p</td>\n",
       "      <td>MWF</td>\n",
       "      <td>SJH-503</td>\n",
       "      <td>Open</td>\n",
       "    </tr>\n",
       "    <tr>\n",
       "      <th>7PE3</th>\n",
       "      <td>9211</td>\n",
       "      <td>EMC-202</td>\n",
       "      <td>PE 3 - PHYSICAL ACTIVITIES TOWARDS HEALTH AND ...</td>\n",
       "      <td>2</td>\n",
       "      <td>09:10a</td>\n",
       "      <td>11:10a</td>\n",
       "      <td>T</td>\n",
       "      <td>IHM-GYM</td>\n",
       "      <td>Open</td>\n",
       "    </tr>\n",
       "    <tr>\n",
       "      <th>6DSALGO</th>\n",
       "      <td>2066</td>\n",
       "      <td>EMC-202</td>\n",
       "      <td>DATA STRUCTURES AND ALGORITHMS</td>\n",
       "      <td>3</td>\n",
       "      <td>01:30p</td>\n",
       "      <td>03:30p</td>\n",
       "      <td>T</td>\n",
       "      <td>SJH-610</td>\n",
       "      <td>Open</td>\n",
       "    </tr>\n",
       "    <tr>\n",
       "      <th>6DSALGO</th>\n",
       "      <td>2066</td>\n",
       "      <td>EMC-202</td>\n",
       "      <td>DATA STRUCTURES AND ALGORITHMS</td>\n",
       "      <td>3</td>\n",
       "      <td>01:30p</td>\n",
       "      <td>04:30p</td>\n",
       "      <td>TH</td>\n",
       "      <td>MGN-303</td>\n",
       "      <td>NaN</td>\n",
       "    </tr>\n",
       "    <tr>\n",
       "      <th>9PHYSICS-A</th>\n",
       "      <td>2070</td>\n",
       "      <td>EMC-202</td>\n",
       "      <td>PHYSICS FOR ANIMATION</td>\n",
       "      <td>3</td>\n",
       "      <td>06:05p</td>\n",
       "      <td>07:35p</td>\n",
       "      <td>TTH</td>\n",
       "      <td>SJH-503</td>\n",
       "      <td>Open</td>\n",
       "    </tr>\n",
       "    <tr>\n",
       "      <th>6APPDEV</th>\n",
       "      <td>2065</td>\n",
       "      <td>EMC-202</td>\n",
       "      <td>APPLICATIONS DEVELOPMENT AND EMERGING TECHNOLO...</td>\n",
       "      <td>3</td>\n",
       "      <td>12:45p</td>\n",
       "      <td>03:45p</td>\n",
       "      <td>W</td>\n",
       "      <td>SJH-706</td>\n",
       "      <td>Open</td>\n",
       "    </tr>\n",
       "  </tbody>\n",
       "</table>\n",
       "</div>"
      ],
      "text/plain": [
       "            CLASS CODE  SECTION  \\\n",
       "CODE                              \n",
       "6UHCI             2067  EMC-202   \n",
       "6DRAW2            2069  EMC-202   \n",
       "6CWRITE           2068  EMC-202   \n",
       "4CONWORLD         2064  EMC-202   \n",
       "7PE3              9211  EMC-202   \n",
       "6DSALGO           2066  EMC-202   \n",
       "6DSALGO           2066  EMC-202   \n",
       "9PHYSICS-A        2070  EMC-202   \n",
       "6APPDEV           2065  EMC-202   \n",
       "\n",
       "                                                     SUBJECTS  UNITS  \\\n",
       "CODE                                                                   \n",
       "6UHCI              USABILITY, HCI AND USER INTERACTION DESIGN      3   \n",
       "6DRAW2                             PRINCIPLES OF 2D ANIMATION      3   \n",
       "6CWRITE               CREATIVE WRITING AND STORY BOARD DESIGN      3   \n",
       "4CONWORLD                              THE CONTEMPORARY WORLD      3   \n",
       "7PE3        PE 3 - PHYSICAL ACTIVITIES TOWARDS HEALTH AND ...      2   \n",
       "6DSALGO                        DATA STRUCTURES AND ALGORITHMS      3   \n",
       "6DSALGO                        DATA STRUCTURES AND ALGORITHMS      3   \n",
       "9PHYSICS-A                              PHYSICS FOR ANIMATION      3   \n",
       "6APPDEV     APPLICATIONS DEVELOPMENT AND EMERGING TECHNOLO...      3   \n",
       "\n",
       "           FROM TIME TO TIME DAYS     ROOM CLASS STATUS  \n",
       "CODE                                                     \n",
       "6UHCI         01:30p  04:30p    F  SJH-707        Open   \n",
       "6DRAW2        01:00p  04:00p    M  SJH-704        Open   \n",
       "6CWRITE       05:50p  06:50p  MWF  SJH-504        Open   \n",
       "4CONWORLD     06:55p  07:55p  MWF  SJH-503        Open   \n",
       "7PE3          09:10a  11:10a    T  IHM-GYM        Open   \n",
       "6DSALGO       01:30p  03:30p    T  SJH-610        Open   \n",
       "6DSALGO       01:30p  04:30p   TH  MGN-303          NaN  \n",
       "9PHYSICS-A    06:05p  07:35p  TTH  SJH-503        Open   \n",
       "6APPDEV       12:45p  03:45p    W  SJH-706        Open   "
      ]
     },
     "execution_count": 3,
     "metadata": {},
     "output_type": "execute_result"
    }
   ],
   "source": [
    "df"
   ]
  },
  {
   "cell_type": "code",
   "execution_count": 4,
   "metadata": {},
   "outputs": [
    {
     "name": "stdout",
     "output_type": "stream",
     "text": [
      "CLASS CODE                                            2067\n",
      "SECTION                                            EMC-202\n",
      "SUBJECTS        USABILITY, HCI AND USER INTERACTION DESIGN\n",
      "UNITS                                                    3\n",
      "FROM TIME                                           01:30p\n",
      "TO TIME                                             04:30p\n",
      "DAYS                                                     F\n",
      "ROOM                                               SJH-707\n",
      "CLASS STATUS                                         Open \n",
      "Name: 6UHCI, dtype: object\n"
     ]
    }
   ],
   "source": [
    "x = []\n",
    "for i in df.iterrows():\n",
    "    x.append(i)\n",
    "    \n",
    "print(x[0][1])"
   ]
  },
  {
   "cell_type": "code",
   "execution_count": 5,
   "metadata": {
    "scrolled": true
   },
   "outputs": [
    {
     "data": {
      "text/plain": [
       "CLASS CODE                                                   9211\n",
       "SECTION                                                   EMC-202\n",
       "SUBJECTS        PE 3 - PHYSICAL ACTIVITIES TOWARDS HEALTH AND ...\n",
       "UNITS                                                           2\n",
       "FROM TIME                                                  09:10a\n",
       "TO TIME                                                    11:10a\n",
       "DAYS                                                            T\n",
       "ROOM                                                      IHM-GYM\n",
       "CLASS STATUS                                                Open \n",
       "Name: 7PE3, dtype: object"
      ]
     },
     "execution_count": 5,
     "metadata": {},
     "output_type": "execute_result"
    }
   ],
   "source": [
    "df.loc['7PE3']"
   ]
  },
  {
   "cell_type": "code",
   "execution_count": 6,
   "metadata": {},
   "outputs": [
    {
     "data": {
      "text/plain": [
       "['04:30p',\n",
       " '04:00p',\n",
       " '06:50p',\n",
       " '07:55p',\n",
       " '11:10a',\n",
       " '03:30p',\n",
       " '04:30p',\n",
       " '07:35p',\n",
       " '03:45p']"
      ]
     },
     "execution_count": 6,
     "metadata": {},
     "output_type": "execute_result"
    }
   ],
   "source": [
    "df['TO TIME'].to_list()"
   ]
  },
  {
   "cell_type": "code",
   "execution_count": 7,
   "metadata": {},
   "outputs": [
    {
     "data": {
      "text/plain": [
       "CODE\n",
       "6UHCI           F\n",
       "6DRAW2          M\n",
       "6CWRITE       MWF\n",
       "4CONWORLD     MWF\n",
       "7PE3            T\n",
       "6DSALGO         T\n",
       "6DSALGO        TH\n",
       "9PHYSICS-A    TTH\n",
       "6APPDEV         W\n",
       "Name: DAYS, dtype: object"
      ]
     },
     "execution_count": 7,
     "metadata": {},
     "output_type": "execute_result"
    }
   ],
   "source": [
    "df['DAYS']"
   ]
  },
  {
   "cell_type": "code",
   "execution_count": 24,
   "metadata": {},
   "outputs": [
    {
     "data": {
      "text/plain": [
       "['MON', 'TUE', 'WED', 'THU', 'FRI', 'SAT']"
      ]
     },
     "execution_count": 24,
     "metadata": {},
     "output_type": "execute_result"
    }
   ],
   "source": [
    "week_list = {\n",
    "    'FULL': ['Monday', 'Tuesday', 'Wednesday', 'Thursday', 'Friday', 'Saturday'],\n",
    "    'INITIAL': ['M', 'T', 'W', 'TH', 'F', 'S']\n",
    "}\n",
    "week_list['PARTIAL'] = [x[:3].upper() for x in week_list['FULL']]\n",
    "week_list['PARTIAL']"
   ]
  },
  {
   "cell_type": "code",
   "execution_count": null,
   "metadata": {},
   "outputs": [],
   "source": []
  },
  {
   "cell_type": "code",
   "execution_count": null,
   "metadata": {},
   "outputs": [],
   "source": []
  }
 ],
 "metadata": {
  "kernelspec": {
   "display_name": "Python 3",
   "language": "python",
   "name": "python3"
  },
  "language_info": {
   "codemirror_mode": {
    "name": "ipython",
    "version": 3
   },
   "file_extension": ".py",
   "mimetype": "text/x-python",
   "name": "python",
   "nbconvert_exporter": "python",
   "pygments_lexer": "ipython3",
   "version": "3.7.6"
  }
 },
 "nbformat": 4,
 "nbformat_minor": 4
}
