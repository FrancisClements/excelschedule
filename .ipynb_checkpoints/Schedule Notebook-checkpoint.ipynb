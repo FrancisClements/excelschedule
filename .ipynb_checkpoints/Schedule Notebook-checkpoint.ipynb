{
 "cells": [
  {
   "cell_type": "code",
   "execution_count": 2,
   "metadata": {},
   "outputs": [],
   "source": [
    "import pandas as pd"
   ]
  },
  {
   "cell_type": "code",
   "execution_count": 25,
   "metadata": {},
   "outputs": [],
   "source": [
    "df = pd.read_excel('sched_tbl.xlsx', index_col = 'CODE')"
   ]
  },
  {
   "cell_type": "code",
   "execution_count": 26,
   "metadata": {},
   "outputs": [
    {
     "data": {
      "text/html": [
       "<div>\n",
       "<style scoped>\n",
       "    .dataframe tbody tr th:only-of-type {\n",
       "        vertical-align: middle;\n",
       "    }\n",
       "\n",
       "    .dataframe tbody tr th {\n",
       "        vertical-align: top;\n",
       "    }\n",
       "\n",
       "    .dataframe thead th {\n",
       "        text-align: right;\n",
       "    }\n",
       "</style>\n",
       "<table border=\"1\" class=\"dataframe\">\n",
       "  <thead>\n",
       "    <tr style=\"text-align: right;\">\n",
       "      <th></th>\n",
       "      <th>CLASS CODE</th>\n",
       "      <th>SECTION</th>\n",
       "      <th>SUBJECTS</th>\n",
       "      <th>UNITS</th>\n",
       "      <th>FROM TIME</th>\n",
       "      <th>TO TIME</th>\n",
       "      <th>DAYS</th>\n",
       "      <th>ROOM</th>\n",
       "      <th>CLASS STATUS</th>\n",
       "    </tr>\n",
       "    <tr>\n",
       "      <th>CODE</th>\n",
       "      <th></th>\n",
       "      <th></th>\n",
       "      <th></th>\n",
       "      <th></th>\n",
       "      <th></th>\n",
       "      <th></th>\n",
       "      <th></th>\n",
       "      <th></th>\n",
       "      <th></th>\n",
       "    </tr>\n",
       "  </thead>\n",
       "  <tbody>\n",
       "    <tr>\n",
       "      <th>6UHCI</th>\n",
       "      <td>2067</td>\n",
       "      <td>EMC-202</td>\n",
       "      <td>USABILITY, HCI AND USER INTERACTION DESIGN</td>\n",
       "      <td>3</td>\n",
       "      <td>01:30p</td>\n",
       "      <td>04:30p</td>\n",
       "      <td>F</td>\n",
       "      <td>SJH-707</td>\n",
       "      <td>Open</td>\n",
       "    </tr>\n",
       "    <tr>\n",
       "      <th>6DRAW2</th>\n",
       "      <td>2069</td>\n",
       "      <td>EMC-202</td>\n",
       "      <td>PRINCIPLES OF 2D ANIMATION</td>\n",
       "      <td>3</td>\n",
       "      <td>01:00p</td>\n",
       "      <td>04:00p</td>\n",
       "      <td>M</td>\n",
       "      <td>SJH-704</td>\n",
       "      <td>Open</td>\n",
       "    </tr>\n",
       "    <tr>\n",
       "      <th>6CWRITE</th>\n",
       "      <td>2068</td>\n",
       "      <td>EMC-202</td>\n",
       "      <td>CREATIVE WRITING AND STORY BOARD DESIGN</td>\n",
       "      <td>3</td>\n",
       "      <td>05:50p</td>\n",
       "      <td>06:50p</td>\n",
       "      <td>MWF</td>\n",
       "      <td>SJH-504</td>\n",
       "      <td>Open</td>\n",
       "    </tr>\n",
       "    <tr>\n",
       "      <th>4CONWORLD</th>\n",
       "      <td>2064</td>\n",
       "      <td>EMC-202</td>\n",
       "      <td>THE CONTEMPORARY WORLD</td>\n",
       "      <td>3</td>\n",
       "      <td>06:55p</td>\n",
       "      <td>07:55p</td>\n",
       "      <td>MWF</td>\n",
       "      <td>SJH-503</td>\n",
       "      <td>Open</td>\n",
       "    </tr>\n",
       "    <tr>\n",
       "      <th>7PE3</th>\n",
       "      <td>9211</td>\n",
       "      <td>EMC-202</td>\n",
       "      <td>PE 3 - PHYSICAL ACTIVITIES TOWARDS HEALTH AND ...</td>\n",
       "      <td>2</td>\n",
       "      <td>09:10a</td>\n",
       "      <td>11:10a</td>\n",
       "      <td>T</td>\n",
       "      <td>IHM-GYM</td>\n",
       "      <td>Open</td>\n",
       "    </tr>\n",
       "    <tr>\n",
       "      <th>6DSALGO</th>\n",
       "      <td>2066</td>\n",
       "      <td>EMC-202</td>\n",
       "      <td>DATA STRUCTURES AND ALGORITHMS</td>\n",
       "      <td>3</td>\n",
       "      <td>01:30p</td>\n",
       "      <td>03:30p</td>\n",
       "      <td>T</td>\n",
       "      <td>SJH-610</td>\n",
       "      <td>Open</td>\n",
       "    </tr>\n",
       "    <tr>\n",
       "      <th>6DSALGO</th>\n",
       "      <td>2066</td>\n",
       "      <td>EMC-202</td>\n",
       "      <td>DATA STRUCTURES AND ALGORITHMS</td>\n",
       "      <td>3</td>\n",
       "      <td>01:30p</td>\n",
       "      <td>04:30p</td>\n",
       "      <td>TH</td>\n",
       "      <td>MGN-303</td>\n",
       "      <td>NaN</td>\n",
       "    </tr>\n",
       "    <tr>\n",
       "      <th>9PHYSICS-A</th>\n",
       "      <td>2070</td>\n",
       "      <td>EMC-202</td>\n",
       "      <td>PHYSICS FOR ANIMATION</td>\n",
       "      <td>3</td>\n",
       "      <td>06:05p</td>\n",
       "      <td>07:35p</td>\n",
       "      <td>TTH</td>\n",
       "      <td>SJH-503</td>\n",
       "      <td>Open</td>\n",
       "    </tr>\n",
       "    <tr>\n",
       "      <th>6APPDEV</th>\n",
       "      <td>2065</td>\n",
       "      <td>EMC-202</td>\n",
       "      <td>APPLICATIONS DEVELOPMENT AND EMERGING TECHNOLO...</td>\n",
       "      <td>3</td>\n",
       "      <td>12:45p</td>\n",
       "      <td>03:45p</td>\n",
       "      <td>W</td>\n",
       "      <td>SJH-706</td>\n",
       "      <td>Open</td>\n",
       "    </tr>\n",
       "  </tbody>\n",
       "</table>\n",
       "</div>"
      ],
      "text/plain": [
       "            CLASS CODE  SECTION  \\\n",
       "CODE                              \n",
       "6UHCI             2067  EMC-202   \n",
       "6DRAW2            2069  EMC-202   \n",
       "6CWRITE           2068  EMC-202   \n",
       "4CONWORLD         2064  EMC-202   \n",
       "7PE3              9211  EMC-202   \n",
       "6DSALGO           2066  EMC-202   \n",
       "6DSALGO           2066  EMC-202   \n",
       "9PHYSICS-A        2070  EMC-202   \n",
       "6APPDEV           2065  EMC-202   \n",
       "\n",
       "                                                     SUBJECTS  UNITS  \\\n",
       "CODE                                                                   \n",
       "6UHCI              USABILITY, HCI AND USER INTERACTION DESIGN      3   \n",
       "6DRAW2                             PRINCIPLES OF 2D ANIMATION      3   \n",
       "6CWRITE               CREATIVE WRITING AND STORY BOARD DESIGN      3   \n",
       "4CONWORLD                              THE CONTEMPORARY WORLD      3   \n",
       "7PE3        PE 3 - PHYSICAL ACTIVITIES TOWARDS HEALTH AND ...      2   \n",
       "6DSALGO                        DATA STRUCTURES AND ALGORITHMS      3   \n",
       "6DSALGO                        DATA STRUCTURES AND ALGORITHMS      3   \n",
       "9PHYSICS-A                              PHYSICS FOR ANIMATION      3   \n",
       "6APPDEV     APPLICATIONS DEVELOPMENT AND EMERGING TECHNOLO...      3   \n",
       "\n",
       "           FROM TIME TO TIME DAYS     ROOM CLASS STATUS  \n",
       "CODE                                                     \n",
       "6UHCI         01:30p  04:30p    F  SJH-707        Open   \n",
       "6DRAW2        01:00p  04:00p    M  SJH-704        Open   \n",
       "6CWRITE       05:50p  06:50p  MWF  SJH-504        Open   \n",
       "4CONWORLD     06:55p  07:55p  MWF  SJH-503        Open   \n",
       "7PE3          09:10a  11:10a    T  IHM-GYM        Open   \n",
       "6DSALGO       01:30p  03:30p    T  SJH-610        Open   \n",
       "6DSALGO       01:30p  04:30p   TH  MGN-303          NaN  \n",
       "9PHYSICS-A    06:05p  07:35p  TTH  SJH-503        Open   \n",
       "6APPDEV       12:45p  03:45p    W  SJH-706        Open   "
      ]
     },
     "execution_count": 26,
     "metadata": {},
     "output_type": "execute_result"
    }
   ],
   "source": [
    "df"
   ]
  },
  {
   "cell_type": "code",
   "execution_count": 27,
   "metadata": {
    "collapsed": true
   },
   "outputs": [
    {
     "name": "stdout",
     "output_type": "stream",
     "text": [
      "CLASS CODE                                            2067\n",
      "SECTION                                            EMC-202\n",
      "SUBJECTS        USABILITY, HCI AND USER INTERACTION DESIGN\n",
      "UNITS                                                    3\n",
      "FROM TIME                                           01:30p\n",
      "TO TIME                                             04:30p\n",
      "DAYS                                                     F\n",
      "ROOM                                               SJH-707\n",
      "CLASS STATUS                                         Open \n",
      "Name: 6UHCI, dtype: object\n"
     ]
    }
   ],
   "source": [
    "x = []\n",
    "for i in df.iterrows():\n",
    "    x.append(i)\n",
    "    \n",
    "print(x[0][1])"
   ]
  },
  {
   "cell_type": "code",
   "execution_count": 39,
   "metadata": {},
   "outputs": [
    {
     "data": {
      "text/html": [
       "<div>\n",
       "<style scoped>\n",
       "    .dataframe tbody tr th:only-of-type {\n",
       "        vertical-align: middle;\n",
       "    }\n",
       "\n",
       "    .dataframe tbody tr th {\n",
       "        vertical-align: top;\n",
       "    }\n",
       "\n",
       "    .dataframe thead th {\n",
       "        text-align: right;\n",
       "    }\n",
       "</style>\n",
       "<table border=\"1\" class=\"dataframe\">\n",
       "  <thead>\n",
       "    <tr style=\"text-align: right;\">\n",
       "      <th></th>\n",
       "      <th>FROM TIME</th>\n",
       "      <th>TO TIME</th>\n",
       "      <th>DAYS</th>\n",
       "    </tr>\n",
       "    <tr>\n",
       "      <th>CODE</th>\n",
       "      <th></th>\n",
       "      <th></th>\n",
       "      <th></th>\n",
       "    </tr>\n",
       "  </thead>\n",
       "  <tbody>\n",
       "    <tr>\n",
       "      <th>6UHCI</th>\n",
       "      <td>01:30p</td>\n",
       "      <td>04:30p</td>\n",
       "      <td>F</td>\n",
       "    </tr>\n",
       "    <tr>\n",
       "      <th>6DRAW2</th>\n",
       "      <td>01:00p</td>\n",
       "      <td>04:00p</td>\n",
       "      <td>M</td>\n",
       "    </tr>\n",
       "    <tr>\n",
       "      <th>6CWRITE</th>\n",
       "      <td>05:50p</td>\n",
       "      <td>06:50p</td>\n",
       "      <td>MWF</td>\n",
       "    </tr>\n",
       "    <tr>\n",
       "      <th>4CONWORLD</th>\n",
       "      <td>06:55p</td>\n",
       "      <td>07:55p</td>\n",
       "      <td>MWF</td>\n",
       "    </tr>\n",
       "    <tr>\n",
       "      <th>7PE3</th>\n",
       "      <td>09:10a</td>\n",
       "      <td>11:10a</td>\n",
       "      <td>T</td>\n",
       "    </tr>\n",
       "    <tr>\n",
       "      <th>6DSALGO</th>\n",
       "      <td>01:30p</td>\n",
       "      <td>03:30p</td>\n",
       "      <td>T</td>\n",
       "    </tr>\n",
       "    <tr>\n",
       "      <th>6DSALGO</th>\n",
       "      <td>01:30p</td>\n",
       "      <td>04:30p</td>\n",
       "      <td>TH</td>\n",
       "    </tr>\n",
       "    <tr>\n",
       "      <th>9PHYSICS-A</th>\n",
       "      <td>06:05p</td>\n",
       "      <td>07:35p</td>\n",
       "      <td>TTH</td>\n",
       "    </tr>\n",
       "    <tr>\n",
       "      <th>6APPDEV</th>\n",
       "      <td>12:45p</td>\n",
       "      <td>03:45p</td>\n",
       "      <td>W</td>\n",
       "    </tr>\n",
       "  </tbody>\n",
       "</table>\n",
       "</div>"
      ],
      "text/plain": [
       "           FROM TIME TO TIME DAYS\n",
       "CODE                             \n",
       "6UHCI         01:30p  04:30p    F\n",
       "6DRAW2        01:00p  04:00p    M\n",
       "6CWRITE       05:50p  06:50p  MWF\n",
       "4CONWORLD     06:55p  07:55p  MWF\n",
       "7PE3          09:10a  11:10a    T\n",
       "6DSALGO       01:30p  03:30p    T\n",
       "6DSALGO       01:30p  04:30p   TH\n",
       "9PHYSICS-A    06:05p  07:35p  TTH\n",
       "6APPDEV       12:45p  03:45p    W"
      ]
     },
     "execution_count": 39,
     "metadata": {},
     "output_type": "execute_result"
    }
   ],
   "source": [
    "df[['FROM TIME', 'TO TIME', 'DAYS']]\n"
   ]
  },
  {
   "cell_type": "code",
   "execution_count": 6,
   "metadata": {},
   "outputs": [
    {
     "name": "stdout",
     "output_type": "stream",
     "text": [
      "F 0\n",
      "M 1\n",
      "MWF 2\n",
      "MWF 3\n",
      "T 4\n",
      "T 5\n",
      "TH 5\n",
      "T 6\n",
      "TH 6\n",
      "TTH 7\n",
      "W 8\n"
     ]
    }
   ],
   "source": [
    "for i, sub in enumerate(df.index):\n",
    "    if isinstance(df.loc[sub]['DAYS'], pd.core.series.Series): \n",
    "        for sub_series in df.loc[sub]['DAYS']:\n",
    "            print(sub_series, i)\n",
    "    else:\n",
    "        print(df.loc[sub]['DAYS'], i)"
   ]
  },
  {
   "cell_type": "code",
   "execution_count": 7,
   "metadata": {},
   "outputs": [
    {
     "data": {
      "text/plain": [
       "'FMMWFMWFTTTHTTHW'"
      ]
     },
     "execution_count": 7,
     "metadata": {},
     "output_type": "execute_result"
    }
   ],
   "source": [
    "s = ''\n",
    "s = s.join(df['DAYS'])\n",
    "s"
   ]
  },
  {
   "cell_type": "code",
   "execution_count": 13,
   "metadata": {},
   "outputs": [
    {
     "data": {
      "text/plain": [
       "'CODE'"
      ]
     },
     "execution_count": 13,
     "metadata": {},
     "output_type": "execute_result"
    }
   ],
   "source": [
    "df2 = pd.read_excel(\"E:/Downloads/sched_tbl.xlsx\")\n",
    "df2.keys()"
   ]
  },
  {
   "cell_type": "code",
   "execution_count": 24,
   "metadata": {},
   "outputs": [
    {
     "data": {
      "text/plain": [
       "<re.Match object; span=(4, 5), match='<'>"
      ]
     },
     "execution_count": 24,
     "metadata": {},
     "output_type": "execute_result"
    }
   ],
   "source": [
    "import re\n",
    "#characters that are not allowed: /\\:*?\"><|\n",
    "word = '4423<3234'\n",
    "re.search(r'[\\\\/:\\:\\?><\\|\\*]', word)"
   ]
  },
  {
   "cell_type": "code",
   "execution_count": 33,
   "metadata": {},
   "outputs": [
    {
     "name": "stdout",
     "output_type": "stream",
     "text": [
      "0\n",
      "1\n",
      "2\n",
      "3\n"
     ]
    }
   ],
   "source": []
  },
  {
   "cell_type": "code",
   "execution_count": null,
   "metadata": {},
   "outputs": [],
   "source": []
  }
 ],
 "metadata": {
  "kernelspec": {
   "display_name": "Python 3",
   "language": "python",
   "name": "python3"
  },
  "language_info": {
   "codemirror_mode": {
    "name": "ipython",
    "version": 3
   },
   "file_extension": ".py",
   "mimetype": "text/x-python",
   "name": "python",
   "nbconvert_exporter": "python",
   "pygments_lexer": "ipython3",
   "version": "3.7.6"
  }
 },
 "nbformat": 4,
 "nbformat_minor": 4
}
