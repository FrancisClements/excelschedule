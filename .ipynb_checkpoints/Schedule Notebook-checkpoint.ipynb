{
 "cells": [
  {
   "cell_type": "code",
   "execution_count": 2,
   "metadata": {},
   "outputs": [],
   "source": [
    "import pandas as pd"
   ]
  },
  {
   "cell_type": "code",
   "execution_count": 7,
   "metadata": {},
   "outputs": [],
   "source": [
    "df = pd.read_excel('sched_tbl.xlsx')"
   ]
  },
  {
   "cell_type": "code",
   "execution_count": 8,
   "metadata": {},
   "outputs": [
    {
     "data": {
      "text/html": [
       "<div>\n",
       "<style scoped>\n",
       "    .dataframe tbody tr th:only-of-type {\n",
       "        vertical-align: middle;\n",
       "    }\n",
       "\n",
       "    .dataframe tbody tr th {\n",
       "        vertical-align: top;\n",
       "    }\n",
       "\n",
       "    .dataframe thead th {\n",
       "        text-align: right;\n",
       "    }\n",
       "</style>\n",
       "<table border=\"1\" class=\"dataframe\">\n",
       "  <thead>\n",
       "    <tr style=\"text-align: right;\">\n",
       "      <th></th>\n",
       "      <th>CLASS CODE</th>\n",
       "      <th>CODE</th>\n",
       "      <th>SECTION</th>\n",
       "      <th>SUBJECTS</th>\n",
       "      <th>UNITS</th>\n",
       "      <th>FROM TIME</th>\n",
       "      <th>TO TIME</th>\n",
       "      <th>DAYS</th>\n",
       "      <th>ROOM</th>\n",
       "      <th>CLASS STATUS</th>\n",
       "    </tr>\n",
       "  </thead>\n",
       "  <tbody>\n",
       "    <tr>\n",
       "      <th>0</th>\n",
       "      <td>2067.0</td>\n",
       "      <td>6UHCI</td>\n",
       "      <td>EMC-202</td>\n",
       "      <td>USABILITY, HCI AND USER INTERACTION DESIGN</td>\n",
       "      <td>3.0</td>\n",
       "      <td>01:30p</td>\n",
       "      <td>04:30p</td>\n",
       "      <td>F</td>\n",
       "      <td>SJH-707</td>\n",
       "      <td>Open</td>\n",
       "    </tr>\n",
       "    <tr>\n",
       "      <th>1</th>\n",
       "      <td>2069.0</td>\n",
       "      <td>6DRAW2</td>\n",
       "      <td>EMC-202</td>\n",
       "      <td>PRINCIPLES OF 2D ANIMATION</td>\n",
       "      <td>3.0</td>\n",
       "      <td>01:00p</td>\n",
       "      <td>04:00p</td>\n",
       "      <td>M</td>\n",
       "      <td>SJH-704</td>\n",
       "      <td>Open</td>\n",
       "    </tr>\n",
       "    <tr>\n",
       "      <th>2</th>\n",
       "      <td>2068.0</td>\n",
       "      <td>6CWRITE</td>\n",
       "      <td>EMC-202</td>\n",
       "      <td>CREATIVE WRITING AND STORY BOARD DESIGN</td>\n",
       "      <td>3.0</td>\n",
       "      <td>05:50p</td>\n",
       "      <td>06:50p</td>\n",
       "      <td>MWF</td>\n",
       "      <td>SJH-504</td>\n",
       "      <td>Open</td>\n",
       "    </tr>\n",
       "    <tr>\n",
       "      <th>3</th>\n",
       "      <td>2064.0</td>\n",
       "      <td>4CONWORLD</td>\n",
       "      <td>EMC-202</td>\n",
       "      <td>THE CONTEMPORARY WORLD</td>\n",
       "      <td>3.0</td>\n",
       "      <td>06:55p</td>\n",
       "      <td>07:55p</td>\n",
       "      <td>MWF</td>\n",
       "      <td>SJH-503</td>\n",
       "      <td>Open</td>\n",
       "    </tr>\n",
       "    <tr>\n",
       "      <th>4</th>\n",
       "      <td>9211.0</td>\n",
       "      <td>7PE3</td>\n",
       "      <td>EMC-202</td>\n",
       "      <td>PE 3 - PHYSICAL ACTIVITIES TOWARDS HEALTH AND ...</td>\n",
       "      <td>2.0</td>\n",
       "      <td>09:10a</td>\n",
       "      <td>11:10a</td>\n",
       "      <td>T</td>\n",
       "      <td>IHM-GYM</td>\n",
       "      <td>Open</td>\n",
       "    </tr>\n",
       "    <tr>\n",
       "      <th>5</th>\n",
       "      <td>2066.0</td>\n",
       "      <td>6DSALGO</td>\n",
       "      <td>EMC-202</td>\n",
       "      <td>DATA STRUCTURES AND ALGORITHMS</td>\n",
       "      <td>3.0</td>\n",
       "      <td>01:30p</td>\n",
       "      <td>03:30p</td>\n",
       "      <td>T</td>\n",
       "      <td>SJH-610</td>\n",
       "      <td>Open</td>\n",
       "    </tr>\n",
       "    <tr>\n",
       "      <th>6</th>\n",
       "      <td>NaN</td>\n",
       "      <td>NaN</td>\n",
       "      <td>NaN</td>\n",
       "      <td>NaN</td>\n",
       "      <td>NaN</td>\n",
       "      <td>01:30p</td>\n",
       "      <td>04:30p</td>\n",
       "      <td>TH</td>\n",
       "      <td>MGN-303</td>\n",
       "      <td>NaN</td>\n",
       "    </tr>\n",
       "    <tr>\n",
       "      <th>7</th>\n",
       "      <td>2070.0</td>\n",
       "      <td>9PHYSICS-A</td>\n",
       "      <td>EMC-202</td>\n",
       "      <td>PHYSICS FOR ANIMATION</td>\n",
       "      <td>3.0</td>\n",
       "      <td>06:05p</td>\n",
       "      <td>07:35p</td>\n",
       "      <td>TTH</td>\n",
       "      <td>SJH-503</td>\n",
       "      <td>Open</td>\n",
       "    </tr>\n",
       "    <tr>\n",
       "      <th>8</th>\n",
       "      <td>2065.0</td>\n",
       "      <td>6APPDEV</td>\n",
       "      <td>EMC-202</td>\n",
       "      <td>APPLICATIONS DEVELOPMENT AND EMERGING TECHNOLO...</td>\n",
       "      <td>3.0</td>\n",
       "      <td>12:45p</td>\n",
       "      <td>03:45p</td>\n",
       "      <td>W</td>\n",
       "      <td>SJH-706</td>\n",
       "      <td>Open</td>\n",
       "    </tr>\n",
       "  </tbody>\n",
       "</table>\n",
       "</div>"
      ],
      "text/plain": [
       "   CLASS CODE        CODE  SECTION  \\\n",
       "0      2067.0       6UHCI  EMC-202   \n",
       "1      2069.0      6DRAW2  EMC-202   \n",
       "2      2068.0     6CWRITE  EMC-202   \n",
       "3      2064.0   4CONWORLD  EMC-202   \n",
       "4      9211.0        7PE3  EMC-202   \n",
       "5      2066.0     6DSALGO  EMC-202   \n",
       "6         NaN         NaN      NaN   \n",
       "7      2070.0  9PHYSICS-A  EMC-202   \n",
       "8      2065.0     6APPDEV  EMC-202   \n",
       "\n",
       "                                            SUBJECTS  UNITS FROM TIME TO TIME  \\\n",
       "0         USABILITY, HCI AND USER INTERACTION DESIGN    3.0    01:30p  04:30p   \n",
       "1                         PRINCIPLES OF 2D ANIMATION    3.0    01:00p  04:00p   \n",
       "2            CREATIVE WRITING AND STORY BOARD DESIGN    3.0    05:50p  06:50p   \n",
       "3                             THE CONTEMPORARY WORLD    3.0    06:55p  07:55p   \n",
       "4  PE 3 - PHYSICAL ACTIVITIES TOWARDS HEALTH AND ...    2.0    09:10a  11:10a   \n",
       "5                     DATA STRUCTURES AND ALGORITHMS    3.0    01:30p  03:30p   \n",
       "6                                                NaN    NaN    01:30p  04:30p   \n",
       "7                              PHYSICS FOR ANIMATION    3.0    06:05p  07:35p   \n",
       "8  APPLICATIONS DEVELOPMENT AND EMERGING TECHNOLO...    3.0    12:45p  03:45p   \n",
       "\n",
       "  DAYS     ROOM CLASS STATUS  \n",
       "0    F  SJH-707        Open   \n",
       "1    M  SJH-704        Open   \n",
       "2  MWF  SJH-504        Open   \n",
       "3  MWF  SJH-503        Open   \n",
       "4    T  IHM-GYM        Open   \n",
       "5    T  SJH-610        Open   \n",
       "6   TH  MGN-303          NaN  \n",
       "7  TTH  SJH-503        Open   \n",
       "8    W  SJH-706        Open   "
      ]
     },
     "execution_count": 8,
     "metadata": {},
     "output_type": "execute_result"
    }
   ],
   "source": [
    "df"
   ]
  },
  {
   "cell_type": "code",
   "execution_count": 27,
   "metadata": {},
   "outputs": [
    {
     "name": "stdout",
     "output_type": "stream",
     "text": [
      "CLASS CODE                                            2067\n",
      "CODE                                                 6UHCI\n",
      "SECTION                                            EMC-202\n",
      "SUBJECTS        USABILITY, HCI AND USER INTERACTION DESIGN\n",
      "UNITS                                                    3\n",
      "FROM TIME                                           01:30p\n",
      "TO TIME                                             04:30p\n",
      "DAYS                                                     F\n",
      "ROOM                                               SJH-707\n",
      "CLASS STATUS                                         Open \n",
      "Name: 0, dtype: object\n"
     ]
    }
   ],
   "source": [
    "x = []\n",
    "for i in df.iterrows():\n",
    "    x.append(i)\n",
    "    \n",
    "print(x[0][1])"
   ]
  },
  {
   "cell_type": "code",
   "execution_count": 32,
   "metadata": {
    "scrolled": true
   },
   "outputs": [
    {
     "name": "stdout",
     "output_type": "stream",
     "text": [
      "2067.0\n"
     ]
    }
   ],
   "source": [
    "print(x[0][1][0])"
   ]
  },
  {
   "cell_type": "code",
   "execution_count": 43,
   "metadata": {
    "collapsed": true
   },
   "outputs": [
    {
     "data": {
      "text/plain": [
       "['04:30p',\n",
       " '04:00p',\n",
       " '06:50p',\n",
       " '07:55p',\n",
       " '11:10a',\n",
       " '03:30p',\n",
       " '04:30p',\n",
       " '07:35p',\n",
       " '03:45p']"
      ]
     },
     "execution_count": 43,
     "metadata": {},
     "output_type": "execute_result"
    }
   ],
   "source": [
    "df['TO TIME'].to_list()"
   ]
  },
  {
   "cell_type": "code",
   "execution_count": 48,
   "metadata": {},
   "outputs": [
    {
     "data": {
      "text/html": [
       "<div>\n",
       "<style scoped>\n",
       "    .dataframe tbody tr th:only-of-type {\n",
       "        vertical-align: middle;\n",
       "    }\n",
       "\n",
       "    .dataframe tbody tr th {\n",
       "        vertical-align: top;\n",
       "    }\n",
       "\n",
       "    .dataframe thead th {\n",
       "        text-align: right;\n",
       "    }\n",
       "</style>\n",
       "<table border=\"1\" class=\"dataframe\">\n",
       "  <thead>\n",
       "    <tr style=\"text-align: right;\">\n",
       "      <th></th>\n",
       "      <th>CODE</th>\n",
       "      <th>DAYS</th>\n",
       "    </tr>\n",
       "  </thead>\n",
       "  <tbody>\n",
       "    <tr>\n",
       "      <th>0</th>\n",
       "      <td>6UHCI</td>\n",
       "      <td>F</td>\n",
       "    </tr>\n",
       "    <tr>\n",
       "      <th>1</th>\n",
       "      <td>6DRAW2</td>\n",
       "      <td>M</td>\n",
       "    </tr>\n",
       "    <tr>\n",
       "      <th>2</th>\n",
       "      <td>6CWRITE</td>\n",
       "      <td>MWF</td>\n",
       "    </tr>\n",
       "    <tr>\n",
       "      <th>3</th>\n",
       "      <td>4CONWORLD</td>\n",
       "      <td>MWF</td>\n",
       "    </tr>\n",
       "    <tr>\n",
       "      <th>4</th>\n",
       "      <td>7PE3</td>\n",
       "      <td>T</td>\n",
       "    </tr>\n",
       "    <tr>\n",
       "      <th>5</th>\n",
       "      <td>6DSALGO</td>\n",
       "      <td>T</td>\n",
       "    </tr>\n",
       "    <tr>\n",
       "      <th>6</th>\n",
       "      <td>NaN</td>\n",
       "      <td>TH</td>\n",
       "    </tr>\n",
       "    <tr>\n",
       "      <th>7</th>\n",
       "      <td>9PHYSICS-A</td>\n",
       "      <td>TTH</td>\n",
       "    </tr>\n",
       "    <tr>\n",
       "      <th>8</th>\n",
       "      <td>6APPDEV</td>\n",
       "      <td>W</td>\n",
       "    </tr>\n",
       "  </tbody>\n",
       "</table>\n",
       "</div>"
      ],
      "text/plain": [
       "         CODE DAYS\n",
       "0       6UHCI    F\n",
       "1      6DRAW2    M\n",
       "2     6CWRITE  MWF\n",
       "3   4CONWORLD  MWF\n",
       "4        7PE3    T\n",
       "5     6DSALGO    T\n",
       "6         NaN   TH\n",
       "7  9PHYSICS-A  TTH\n",
       "8     6APPDEV    W"
      ]
     },
     "execution_count": 48,
     "metadata": {},
     "output_type": "execute_result"
    }
   ],
   "source": [
    "df.get(['CODE', 'DAYS'])"
   ]
  },
  {
   "cell_type": "code",
   "execution_count": 51,
   "metadata": {},
   "outputs": [
    {
     "data": {
      "text/plain": [
       "0         6UHCI\n",
       "1        6DRAW2\n",
       "2       6CWRITE\n",
       "3     4CONWORLD\n",
       "4          7PE3\n",
       "5       6DSALGO\n",
       "6           NaN\n",
       "7    9PHYSICS-A\n",
       "8       6APPDEV\n",
       "Name: CODE, dtype: object"
      ]
     },
     "execution_count": 51,
     "metadata": {},
     "output_type": "execute_result"
    }
   ],
   "source": [
    "df['CODE']"
   ]
  },
  {
   "cell_type": "code",
   "execution_count": null,
   "metadata": {},
   "outputs": [],
   "source": []
  }
 ],
 "metadata": {
  "kernelspec": {
   "display_name": "Python 3",
   "language": "python",
   "name": "python3"
  },
  "language_info": {
   "codemirror_mode": {
    "name": "ipython",
    "version": 3
   },
   "file_extension": ".py",
   "mimetype": "text/x-python",
   "name": "python",
   "nbconvert_exporter": "python",
   "pygments_lexer": "ipython3",
   "version": "3.7.6"
  }
 },
 "nbformat": 4,
 "nbformat_minor": 4
}
